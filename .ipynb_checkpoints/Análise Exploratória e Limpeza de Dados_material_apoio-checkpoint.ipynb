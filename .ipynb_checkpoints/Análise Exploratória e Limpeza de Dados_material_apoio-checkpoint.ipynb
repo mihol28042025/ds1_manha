{
 "cells": [
  {
   "cell_type": "markdown",
   "metadata": {},
   "source": [
    "<div style=\"color:white;background-color:#0B244E;padding:20px;width:100%\">\n",
    "<img src=\"https://www.eseg.edu.br/assets/dist/assets/images/logo/136x136.svg\" style=\"\"></img>\n",
    "</div>\n",
    "<div style=\"color:white;background-color:#0B244E;padding:20px;width:100%;border-top: 1px solid white\">\n",
    "Data Science 1 / Prof. Fernando Pablos\n",
    "</div>"
   ]
  },
  {
   "cell_type": "markdown",
   "metadata": {},
   "source": [
    "<h1>Análise Exploratória e limpeza de dados (EDA)</h1>\n",
    "\n",
    "<p>Como já falado na parte teórica, nem sempre nossos dados chegam para nós da forma ideal, para isso precisamos explorá-los e, se necessário, corrigí-los antes de realizarmos nossas análises.</p>\n",
    "<p>Vamos começar carregando nossos dados como já aprendemos em aulas anteriores:</p>\n",
    "\n",
    "\n"
   ]
  },
  {
   "cell_type": "code",
   "execution_count": 1,
   "metadata": {},
   "outputs": [
    {
     "data": {
      "text/html": [
       "<div>\n",
       "<style scoped>\n",
       "    .dataframe tbody tr th:only-of-type {\n",
       "        vertical-align: middle;\n",
       "    }\n",
       "\n",
       "    .dataframe tbody tr th {\n",
       "        vertical-align: top;\n",
       "    }\n",
       "\n",
       "    .dataframe thead th {\n",
       "        text-align: right;\n",
       "    }\n",
       "</style>\n",
       "<table border=\"1\" class=\"dataframe\">\n",
       "  <thead>\n",
       "    <tr style=\"text-align: right;\">\n",
       "      <th></th>\n",
       "      <th>Unnamed: 0</th>\n",
       "      <th>dt1</th>\n",
       "      <th>bairro</th>\n",
       "      <th>dt5</th>\n",
       "      <th>cnpj</th>\n",
       "      <th>Estado</th>\n",
       "      <th>dt30</th>\n",
       "      <th>Lucro Líquido Arredondado (R$)</th>\n",
       "      <th>Ano de Fundação</th>\n",
       "      <th>Tipo:</th>\n",
       "    </tr>\n",
       "  </thead>\n",
       "  <tbody>\n",
       "    <tr>\n",
       "      <th>0</th>\n",
       "      <td>0</td>\n",
       "      <td>Marques</td>\n",
       "      <td>Boa União 1ª Seção</td>\n",
       "      <td>Telecomunicações</td>\n",
       "      <td>39.804.617/0001-03</td>\n",
       "      <td>PI</td>\n",
       "      <td>Vale de Vargas, 588</td>\n",
       "      <td>-263581.0</td>\n",
       "      <td>2018.0</td>\n",
       "      <td>SA</td>\n",
       "    </tr>\n",
       "    <tr>\n",
       "      <th>1</th>\n",
       "      <td>1</td>\n",
       "      <td>Moraes</td>\n",
       "      <td>Mariquinhas</td>\n",
       "      <td>Telecomunicações</td>\n",
       "      <td>70.395.681/0001-10</td>\n",
       "      <td>RO</td>\n",
       "      <td>Feira Macedo, 9</td>\n",
       "      <td>11217.0</td>\n",
       "      <td>2018.0</td>\n",
       "      <td>Lemitada</td>\n",
       "    </tr>\n",
       "    <tr>\n",
       "      <th>2</th>\n",
       "      <td>2</td>\n",
       "      <td>Peixoto Melo - EI</td>\n",
       "      <td>Boa Viagem</td>\n",
       "      <td>Bancário</td>\n",
       "      <td>54.819.672/0001-52</td>\n",
       "      <td>GO</td>\n",
       "      <td>Conjunto de Melo, 25</td>\n",
       "      <td>-337545.0</td>\n",
       "      <td>1974.0</td>\n",
       "      <td>Limitada</td>\n",
       "    </tr>\n",
       "    <tr>\n",
       "      <th>3</th>\n",
       "      <td>3</td>\n",
       "      <td>Barbosa e Filhos</td>\n",
       "      <td>Venda Nova</td>\n",
       "      <td>Energia</td>\n",
       "      <td>43.986.175/0001-22</td>\n",
       "      <td>PI</td>\n",
       "      <td>Passarela Sophia Nunes, 3</td>\n",
       "      <td>267880.0</td>\n",
       "      <td>2009.0</td>\n",
       "      <td>Microempreendedor Individual</td>\n",
       "    </tr>\n",
       "    <tr>\n",
       "      <th>4</th>\n",
       "      <td>4</td>\n",
       "      <td>Freitas</td>\n",
       "      <td>São Marcos</td>\n",
       "      <td>Bancário</td>\n",
       "      <td>04.196.278/0001-37</td>\n",
       "      <td>PE</td>\n",
       "      <td>Viaduto de Fonseca, 72</td>\n",
       "      <td>446051.0</td>\n",
       "      <td>1986.0</td>\n",
       "      <td>Sociedade Anônima</td>\n",
       "    </tr>\n",
       "  </tbody>\n",
       "</table>\n",
       "</div>"
      ],
      "text/plain": [
       "   Unnamed: 0                dt1              bairro               dt5  \\\n",
       "0           0            Marques  Boa União 1ª Seção  Telecomunicações   \n",
       "1           1             Moraes         Mariquinhas  Telecomunicações   \n",
       "2           2  Peixoto Melo - EI          Boa Viagem          Bancário   \n",
       "3           3   Barbosa e Filhos          Venda Nova           Energia   \n",
       "4           4            Freitas          São Marcos          Bancário   \n",
       "\n",
       "                 cnpj Estado                       dt30  \\\n",
       "0  39.804.617/0001-03     PI        Vale de Vargas, 588   \n",
       "1  70.395.681/0001-10     RO            Feira Macedo, 9   \n",
       "2  54.819.672/0001-52     GO       Conjunto de Melo, 25   \n",
       "3  43.986.175/0001-22     PI  Passarela Sophia Nunes, 3   \n",
       "4  04.196.278/0001-37     PE     Viaduto de Fonseca, 72   \n",
       "\n",
       "   Lucro Líquido Arredondado (R$)  Ano de Fundação  \\\n",
       "0                       -263581.0           2018.0   \n",
       "1                         11217.0           2018.0   \n",
       "2                       -337545.0           1974.0   \n",
       "3                        267880.0           2009.0   \n",
       "4                        446051.0           1986.0   \n",
       "\n",
       "                          Tipo:  \n",
       "0                            SA  \n",
       "1                      Lemitada  \n",
       "2                      Limitada  \n",
       "3  Microempreendedor Individual  \n",
       "4             Sociedade Anônima  "
      ]
     },
     "execution_count": 1,
     "metadata": {},
     "output_type": "execute_result"
    }
   ],
   "source": [
    "import pandas as pd\n",
    "\n",
    "df = pd.read_excel('eda.xlsx')\n",
    "df.head()"
   ]
  },
  {
   "cell_type": "markdown",
   "metadata": {},
   "source": [
    "<p>Podemos observar alguns problemas no nome de nossas colunas... veja, dt1, dt5 e dt30, o que será que são essas colunas?</p>\n",
    "<p style=\"color:red\">dt1 parece ser o nome da empresa, dt5 sua área de atuação e dt30 seu endereço, vamos corrigir.</p>"
   ]
  },
  {
   "cell_type": "code",
   "execution_count": 2,
   "metadata": {},
   "outputs": [
    {
     "data": {
      "text/html": [
       "<div>\n",
       "<style scoped>\n",
       "    .dataframe tbody tr th:only-of-type {\n",
       "        vertical-align: middle;\n",
       "    }\n",
       "\n",
       "    .dataframe tbody tr th {\n",
       "        vertical-align: top;\n",
       "    }\n",
       "\n",
       "    .dataframe thead th {\n",
       "        text-align: right;\n",
       "    }\n",
       "</style>\n",
       "<table border=\"1\" class=\"dataframe\">\n",
       "  <thead>\n",
       "    <tr style=\"text-align: right;\">\n",
       "      <th></th>\n",
       "      <th>Unnamed: 0</th>\n",
       "      <th>Nome da empresa</th>\n",
       "      <th>bairro</th>\n",
       "      <th>Área de Atuação</th>\n",
       "      <th>cnpj</th>\n",
       "      <th>Estado</th>\n",
       "      <th>Endereço</th>\n",
       "      <th>Lucro Líquido Arredondado (R$)</th>\n",
       "      <th>Ano de Fundação</th>\n",
       "      <th>Tipo:</th>\n",
       "    </tr>\n",
       "  </thead>\n",
       "  <tbody>\n",
       "    <tr>\n",
       "      <th>0</th>\n",
       "      <td>0</td>\n",
       "      <td>Marques</td>\n",
       "      <td>Boa União 1ª Seção</td>\n",
       "      <td>Telecomunicações</td>\n",
       "      <td>39.804.617/0001-03</td>\n",
       "      <td>PI</td>\n",
       "      <td>Vale de Vargas, 588</td>\n",
       "      <td>-263581.0</td>\n",
       "      <td>2018.0</td>\n",
       "      <td>SA</td>\n",
       "    </tr>\n",
       "    <tr>\n",
       "      <th>1</th>\n",
       "      <td>1</td>\n",
       "      <td>Moraes</td>\n",
       "      <td>Mariquinhas</td>\n",
       "      <td>Telecomunicações</td>\n",
       "      <td>70.395.681/0001-10</td>\n",
       "      <td>RO</td>\n",
       "      <td>Feira Macedo, 9</td>\n",
       "      <td>11217.0</td>\n",
       "      <td>2018.0</td>\n",
       "      <td>Lemitada</td>\n",
       "    </tr>\n",
       "    <tr>\n",
       "      <th>2</th>\n",
       "      <td>2</td>\n",
       "      <td>Peixoto Melo - EI</td>\n",
       "      <td>Boa Viagem</td>\n",
       "      <td>Bancário</td>\n",
       "      <td>54.819.672/0001-52</td>\n",
       "      <td>GO</td>\n",
       "      <td>Conjunto de Melo, 25</td>\n",
       "      <td>-337545.0</td>\n",
       "      <td>1974.0</td>\n",
       "      <td>Limitada</td>\n",
       "    </tr>\n",
       "    <tr>\n",
       "      <th>3</th>\n",
       "      <td>3</td>\n",
       "      <td>Barbosa e Filhos</td>\n",
       "      <td>Venda Nova</td>\n",
       "      <td>Energia</td>\n",
       "      <td>43.986.175/0001-22</td>\n",
       "      <td>PI</td>\n",
       "      <td>Passarela Sophia Nunes, 3</td>\n",
       "      <td>267880.0</td>\n",
       "      <td>2009.0</td>\n",
       "      <td>Microempreendedor Individual</td>\n",
       "    </tr>\n",
       "    <tr>\n",
       "      <th>4</th>\n",
       "      <td>4</td>\n",
       "      <td>Freitas</td>\n",
       "      <td>São Marcos</td>\n",
       "      <td>Bancário</td>\n",
       "      <td>04.196.278/0001-37</td>\n",
       "      <td>PE</td>\n",
       "      <td>Viaduto de Fonseca, 72</td>\n",
       "      <td>446051.0</td>\n",
       "      <td>1986.0</td>\n",
       "      <td>Sociedade Anônima</td>\n",
       "    </tr>\n",
       "  </tbody>\n",
       "</table>\n",
       "</div>"
      ],
      "text/plain": [
       "   Unnamed: 0    Nome da empresa              bairro   Área de Atuação  \\\n",
       "0           0            Marques  Boa União 1ª Seção  Telecomunicações   \n",
       "1           1             Moraes         Mariquinhas  Telecomunicações   \n",
       "2           2  Peixoto Melo - EI          Boa Viagem          Bancário   \n",
       "3           3   Barbosa e Filhos          Venda Nova           Energia   \n",
       "4           4            Freitas          São Marcos          Bancário   \n",
       "\n",
       "                 cnpj Estado                   Endereço  \\\n",
       "0  39.804.617/0001-03     PI        Vale de Vargas, 588   \n",
       "1  70.395.681/0001-10     RO            Feira Macedo, 9   \n",
       "2  54.819.672/0001-52     GO       Conjunto de Melo, 25   \n",
       "3  43.986.175/0001-22     PI  Passarela Sophia Nunes, 3   \n",
       "4  04.196.278/0001-37     PE     Viaduto de Fonseca, 72   \n",
       "\n",
       "   Lucro Líquido Arredondado (R$)  Ano de Fundação  \\\n",
       "0                       -263581.0           2018.0   \n",
       "1                         11217.0           2018.0   \n",
       "2                       -337545.0           1974.0   \n",
       "3                        267880.0           2009.0   \n",
       "4                        446051.0           1986.0   \n",
       "\n",
       "                          Tipo:  \n",
       "0                            SA  \n",
       "1                      Lemitada  \n",
       "2                      Limitada  \n",
       "3  Microempreendedor Individual  \n",
       "4             Sociedade Anônima  "
      ]
     },
     "execution_count": 2,
     "metadata": {},
     "output_type": "execute_result"
    }
   ],
   "source": [
    "df = df.rename(columns={'dt1': 'Nome da empresa', 'dt5': 'Área de Atuação', 'dt30': 'Endereço'})\n",
    "df.head()"
   ]
  },
  {
   "cell_type": "code",
   "execution_count": 3,
   "metadata": {},
   "outputs": [
    {
     "name": "stdout",
     "output_type": "stream",
     "text": [
      "<class 'pandas.core.frame.DataFrame'>\n",
      "RangeIndex: 520 entries, 0 to 519\n",
      "Data columns (total 10 columns):\n",
      " #   Column                          Non-Null Count  Dtype  \n",
      "---  ------                          --------------  -----  \n",
      " 0   Unnamed: 0                      520 non-null    int64  \n",
      " 1   Nome da empresa                 520 non-null    object \n",
      " 2   bairro                          520 non-null    object \n",
      " 3   Área de Atuação                 515 non-null    object \n",
      " 4   cnpj                            520 non-null    object \n",
      " 5   Estado                          520 non-null    object \n",
      " 6   Endereço                        520 non-null    object \n",
      " 7   Lucro Líquido Arredondado (R$)  517 non-null    float64\n",
      " 8   Ano de Fundação                 516 non-null    float64\n",
      " 9   Tipo:                           519 non-null    object \n",
      "dtypes: float64(2), int64(1), object(7)\n",
      "memory usage: 40.8+ KB\n"
     ]
    }
   ],
   "source": [
    "df.info()"
   ]
  },
  {
   "cell_type": "markdown",
   "metadata": {},
   "source": [
    "<p style=\"color:red;\">Existem algumas células vazias, o que será que podemos fazer com elas? Temos algumas alternativas.</p>\n"
   ]
  },
  {
   "cell_type": "code",
   "execution_count": null,
   "metadata": {},
   "outputs": [],
   "source": [
    "#Para as células categóricas, podemos substituir pela moda\n",
    "area_atuacao_moda = df['Área de Atuação'].mode()\n",
    "df['Área de Atuação'] = df['Área de Atuação'].fillna(area_atuacao_moda[0])\n",
    "\n",
    "\n",
    "tipo_moda = df['Tipo:'].mode()\n",
    "df['Tipo:'] = df['Tipo:'].fillna(tipo_moda[0])\n",
    "\n",
    "#Para as células numéricas, podemos pegar a mediana\n",
    "\n",
    "lucro_mediana = df['Lucro Líquido Arredondado (R$)'].median()\n",
    "df['Lucro Líquido Arredondado (R$)'] = df['Lucro Líquido Arredondado (R$)'].fillna(lucro_mediana)\n",
    "\n",
    "ano_mediana = df['Ano de Fundação'].median()\n",
    "df['Ano de Fundação'] = df['Ano de Fundação'].fillna(ano_mediana)\n",
    "\n",
    "df.info()\n",
    "\n"
   ]
  },
  {
   "cell_type": "markdown",
   "metadata": {},
   "source": [
    "<p>Tudo corrigido!</p>\n",
    "<h2>Analisando dados categóricos</h2> "
   ]
  },
  {
   "cell_type": "markdown",
   "metadata": {},
   "source": [
    "<p>Um jeito interessante de analisar dados categóricos, é observar a contagem  e também gráficos de barras.</p>"
   ]
  },
  {
   "cell_type": "code",
   "execution_count": null,
   "metadata": {},
   "outputs": [],
   "source": [
    "#Vamos começar analisando o nome das empresas\n",
    "\n",
    "grupo_nome_empresa = df.groupby(['Nome da empresa']).size()\n",
    "print(grupo_nome_empresa) #Visão de relatório\n",
    "grupo_nome_empresa.plot.bar() #Visão de gráfico"
   ]
  },
  {
   "cell_type": "markdown",
   "metadata": {},
   "source": [
    "<p style=\"color:red\">Podemos observar que algumas empresas estão sendo repetidas duas ou mais vezes, isso é um problema</p>"
   ]
  },
  {
   "cell_type": "code",
   "execution_count": null,
   "metadata": {},
   "outputs": [],
   "source": [
    "#Irá nos mostrar os registros duplicados\n",
    "df[df.duplicated(['Nome da empresa'])]"
   ]
  },
  {
   "cell_type": "code",
   "execution_count": null,
   "metadata": {},
   "outputs": [],
   "source": [
    "#Excluindo os duplicados, mantendo o primeiro registro\n",
    "\n",
    "df = df.drop_duplicates(subset=\"Nome da empresa\", keep='first')\n",
    "\n",
    "#Mostrando novamente se ainda há registros duplicados\n",
    "df[df.duplicated(['Nome da empresa'])]"
   ]
  },
  {
   "cell_type": "code",
   "execution_count": null,
   "metadata": {},
   "outputs": [],
   "source": [
    "#Vamos ver agora os bairros, se há algo errado\n",
    "grupo_bairro = df.groupby(['bairro']).size()\n",
    "print(grupo_bairro)\n",
    "grupo_bairro.plot.bar()"
   ]
  },
  {
   "cell_type": "markdown",
   "metadata": {},
   "source": [
    "Parece estar tudo bem com essa coluna. Podemos ter várias empresas no mesmo bairro."
   ]
  },
  {
   "cell_type": "code",
   "execution_count": null,
   "metadata": {},
   "outputs": [],
   "source": [
    "#Vamos ver a área de atuação da empresa\n",
    "\n",
    "grupo_atuacao = df.groupby('Área de Atuação').size()\n",
    "print(grupo_atuacao)\n",
    "grupo_atuacao.plot.bar()"
   ]
  },
  {
   "cell_type": "markdown",
   "metadata": {},
   "source": [
    "<p style=\"color:red\">A área de atuação 'Teste' parece ser um erro de cadastro.</p>"
   ]
  },
  {
   "cell_type": "code",
   "execution_count": null,
   "metadata": {},
   "outputs": [],
   "source": [
    "#Não vamos manter esses dados, pois podem impactar na análise erroneamente\n",
    "df = df[df['Área de Atuação'] != 'Teste']\n",
    "\n",
    "#Vamos ver agora se ainda aparecem:\n",
    "\n",
    "grupo_atuacao = df.groupby('Área de Atuação').size()\n",
    "print(grupo_atuacao)\n",
    "grupo_atuacao.plot.bar()"
   ]
  },
  {
   "cell_type": "markdown",
   "metadata": {},
   "source": [
    "Problema resolvido!"
   ]
  },
  {
   "cell_type": "code",
   "execution_count": null,
   "metadata": {},
   "outputs": [],
   "source": [
    "#Vamos observar os CNPJ's\n",
    "\n",
    "grupo_cnpj = df.groupby('cnpj').size()\n",
    "print(grupo_cnpj)\n",
    "grupo_cnpj.plot.bar()"
   ]
  },
  {
   "cell_type": "markdown",
   "metadata": {},
   "source": [
    "Não temos CNPJ's repetidos, então não precisamos tratar essa coluna."
   ]
  },
  {
   "cell_type": "code",
   "execution_count": null,
   "metadata": {},
   "outputs": [],
   "source": [
    "#Vamos ver os estados\n",
    "\n",
    "grupo_estado = df.groupby('Estado').size()\n",
    "print(grupo_estado)\n",
    "grupo_estado.plot.bar()"
   ]
  },
  {
   "cell_type": "markdown",
   "metadata": {},
   "source": [
    "<p style=\"color:red\">Os estados XX e ZZ não existem.</p>"
   ]
  },
  {
   "cell_type": "code",
   "execution_count": null,
   "metadata": {},
   "outputs": [],
   "source": [
    "#Para resolver, vamos filtrar usando o pandas, removendo esses dados\n",
    "\n",
    "df = df[(df['Estado'] != 'XX') & (df['Estado'] != 'ZZ')]\n",
    "\n",
    "#E observamos se o problema persiste\n",
    "grupo_estado = df.groupby('Estado').size()\n",
    "print(grupo_estado)\n",
    "grupo_estado.plot.bar()"
   ]
  },
  {
   "cell_type": "markdown",
   "metadata": {},
   "source": [
    "Resolvido!"
   ]
  },
  {
   "cell_type": "code",
   "execution_count": null,
   "metadata": {},
   "outputs": [],
   "source": [
    "#Vamos ver os tipos\n",
    "\n",
    "grupo_tipo = df.groupby('Tipo:').size()\n",
    "print(grupo_tipo)\n",
    "grupo_tipo.plot.bar()"
   ]
  },
  {
   "cell_type": "markdown",
   "metadata": {},
   "source": [
    "<p style=\"color:red\">Temos tipos que deveriam ser o mesmo com nomes diferentes</p>"
   ]
  },
  {
   "cell_type": "code",
   "execution_count": null,
   "metadata": {},
   "outputs": [],
   "source": [
    "# Vamos localizar esses registros e substituí-los, para padronizarmos \n",
    "# nossos dados\n",
    "\n",
    "df['Tipo:'] = df['Tipo:'].replace({\n",
    "    'Lemitada': 'Ltda',\n",
    "    'Limitada': 'Ltda',\n",
    "    'Microempreendedor Individual': 'MEI',\n",
    "    'Sociedade Anônima': 'SA'\n",
    "})\n",
    "\n",
    "#Vamos ver se deu certo\n",
    "grupo_tipo = df.groupby('Tipo:').size()\n",
    "print(grupo_tipo)\n",
    "grupo_tipo.plot.bar()"
   ]
  },
  {
   "cell_type": "markdown",
   "metadata": {},
   "source": [
    "<h2>Analisando dados numéricos</h2> "
   ]
  },
  {
   "cell_type": "code",
   "execution_count": null,
   "metadata": {},
   "outputs": [],
   "source": [
    "import seaborn as sns\n",
    "pd.set_option('display.float_format', '{:.2f}'.format)  # Desativando a notação científica\n",
    "#Vamos analisar o lucro líquido acumulado\n",
    "\n",
    "df['Lucro Líquido Arredondado (R$)'].describe()\n"
   ]
  },
  {
   "cell_type": "markdown",
   "metadata": {},
   "source": [
    "<p style=\"color: red\">O mínimo parece ser muito baixo e o máximo muito alto, podemos verificar pontualmente esses valores e ver se não há mais casos.</p>"
   ]
  },
  {
   "cell_type": "code",
   "execution_count": null,
   "metadata": {},
   "outputs": [],
   "source": [
    "sns.boxplot(df['Lucro Líquido Arredondado (R$)'])"
   ]
  },
  {
   "cell_type": "code",
   "execution_count": null,
   "metadata": {},
   "outputs": [],
   "source": [
    "sns.histplot(df['Lucro Líquido Arredondado (R$)'])"
   ]
  },
  {
   "cell_type": "code",
   "execution_count": null,
   "metadata": {},
   "outputs": [],
   "source": [
    "#Observamos que existem valores exagerados, vamos tentar removê-los\n",
    "\n",
    "df = df[(df['Lucro Líquido Arredondado (R$)'] < 1000000000)]\n",
    "\n",
    "sns.boxplot(df['Lucro Líquido Arredondado (R$)'])\n"
   ]
  },
  {
   "cell_type": "code",
   "execution_count": null,
   "metadata": {},
   "outputs": [],
   "source": [
    "#Ainda parece que temos um valor exagerado negativo, vamos removê-lo também\n",
    "df = df[df['Lucro Líquido Arredondado (R$)'] > -10000000]\n",
    "\n",
    "sns.boxplot(df['Lucro Líquido Arredondado (R$)'])"
   ]
  },
  {
   "cell_type": "markdown",
   "metadata": {},
   "source": [
    "Aparentemente nossos dados estão corretos agora."
   ]
  },
  {
   "cell_type": "code",
   "execution_count": null,
   "metadata": {},
   "outputs": [],
   "source": [
    "sns.histplot(df['Lucro Líquido Arredondado (R$)'])"
   ]
  },
  {
   "cell_type": "markdown",
   "metadata": {},
   "source": [
    "Vamos ver se para o ano há algum problema"
   ]
  },
  {
   "cell_type": "code",
   "execution_count": null,
   "metadata": {},
   "outputs": [],
   "source": [
    "df['Ano de Fundação'].describe()"
   ]
  },
  {
   "cell_type": "code",
   "execution_count": null,
   "metadata": {},
   "outputs": [],
   "source": [
    "sns.histplot(df['Ano de Fundação'])"
   ]
  },
  {
   "cell_type": "code",
   "execution_count": null,
   "metadata": {},
   "outputs": [],
   "source": [
    "sns.boxplot(df['Ano de Fundação'])"
   ]
  },
  {
   "cell_type": "markdown",
   "metadata": {},
   "source": [
    "<p style=\"color: red\">Bom, considerando que nossa base seja de um sistema atual, parece estranho ter empresas fundadadas antes dos anos 1800 e também não chegamos no ano 2900. Vamos remover.</p>"
   ]
  },
  {
   "cell_type": "code",
   "execution_count": null,
   "metadata": {},
   "outputs": [],
   "source": [
    "df = df[(df['Ano de Fundação'] >= 1800) & (df['Ano de Fundação'] <= 2025)]\n",
    "sns.histplot(df['Ano de Fundação'])"
   ]
  },
  {
   "cell_type": "code",
   "execution_count": null,
   "metadata": {},
   "outputs": [],
   "source": [
    "sns.boxplot(df['Ano de Fundação'])"
   ]
  },
  {
   "cell_type": "markdown",
   "metadata": {},
   "source": [
    "Para encerrar, vamos ver se há alguma correlação entre o ano de fundação e o lucro líquido e identificar se há outliers"
   ]
  },
  {
   "cell_type": "code",
   "execution_count": null,
   "metadata": {},
   "outputs": [],
   "source": [
    "sns.scatterplot(data=df, x=df['Ano de Fundação'], y=df['Lucro Líquido Arredondado (R$)'])"
   ]
  },
  {
   "cell_type": "code",
   "execution_count": null,
   "metadata": {},
   "outputs": [],
   "source": [
    "#Vamos analisar uma matriz de correlação também\n",
    "df_correlacao = df[['Lucro Líquido Arredondado (R$)', 'Ano de Fundação']]\n",
    "correlacao = df_correlacao.corr()\n",
    "display(correlacao)"
   ]
  },
  {
   "cell_type": "code",
   "execution_count": null,
   "metadata": {},
   "outputs": [],
   "source": [
    "import matplotlib.pyplot as plt\n",
    "import seaborn as sns\n",
    "\n",
    "plt.figure(figsize=(8, 6))\n",
    "sns.heatmap(\n",
    "    correlacao,\n",
    "    annot=True,       # Mostra os valores dentro dos quadrados\n",
    "    cmap='coolwarm',  # Paleta de cores (azul/vermelho)\n",
    "    vmin=-1,          # Valor mínimo da escala\n",
    "    vmax=1,           # Valor máximo da escala\n",
    "    linewidths=0.5\n",
    ")\n",
    "plt.title('Matriz de Correlação')\n",
    "plt.show()"
   ]
  },
  {
   "cell_type": "markdown",
   "metadata": {},
   "source": [
    "Não há correlação e, portanto, não conseguimos identificar outliers.\n",
    "\n",
    "<p style=\"color: green\">Agora nossa base está limpa para realizarmos as análises, ou para darmos início ao aprendizado de máquina.</p>"
   ]
  }
 ],
 "metadata": {
  "kernelspec": {
   "display_name": "Python 3 (ipykernel)",
   "language": "python",
   "name": "python3"
  },
  "language_info": {
   "codemirror_mode": {
    "name": "ipython",
    "version": 3
   },
   "file_extension": ".py",
   "mimetype": "text/x-python",
   "name": "python",
   "nbconvert_exporter": "python",
   "pygments_lexer": "ipython3",
   "version": "3.11.7"
  }
 },
 "nbformat": 4,
 "nbformat_minor": 4
}
