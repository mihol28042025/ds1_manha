{
 "cells": [
  {
   "cell_type": "markdown",
   "metadata": {},
   "source": [
    "<div style=\"color:white;background-color:#0B244E;padding:20px;width:100%\">\n",
    "<img src=\"https://www.eseg.edu.br/assets/dist/assets/images/logo/136x136.svg\" style=\"\"></img>\n",
    "</div>\n",
    "<div style=\"color:white;background-color:#0B244E;padding:20px;width:100%;border-top: 1px solid white\">\n",
    "Data Science 1 / Prof. Fernando Pablos\n",
    "</div>"
   ]
  },
  {
   "cell_type": "markdown",
   "metadata": {},
   "source": [
    "<h1>Análise Exploratória - Exercícios</h1>\n",
    "\n",
    "\n"
   ]
  },
  {
   "cell_type": "markdown",
   "metadata": {},
   "source": [
    "<p>Exercício 1 - Realize a importação do arquivo dataset_vendas_online.csv</p>"
   ]
  },
  {
   "cell_type": "code",
   "execution_count": 1,
   "metadata": {},
   "outputs": [
    {
     "data": {
      "text/html": [
       "<div>\n",
       "<style scoped>\n",
       "    .dataframe tbody tr th:only-of-type {\n",
       "        vertical-align: middle;\n",
       "    }\n",
       "\n",
       "    .dataframe tbody tr th {\n",
       "        vertical-align: top;\n",
       "    }\n",
       "\n",
       "    .dataframe thead th {\n",
       "        text-align: right;\n",
       "    }\n",
       "</style>\n",
       "<table border=\"1\" class=\"dataframe\">\n",
       "  <thead>\n",
       "    <tr style=\"text-align: right;\">\n",
       "      <th></th>\n",
       "      <th>col1</th>\n",
       "      <th>col2</th>\n",
       "      <th>catA</th>\n",
       "      <th>catB</th>\n",
       "      <th>num1</th>\n",
       "      <th>num2</th>\n",
       "    </tr>\n",
       "  </thead>\n",
       "  <tbody>\n",
       "    <tr>\n",
       "      <th>0</th>\n",
       "      <td>174.84</td>\n",
       "      <td>3.0</td>\n",
       "      <td>Beleza</td>\n",
       "      <td>Pix</td>\n",
       "      <td>34.0</td>\n",
       "      <td>7.76</td>\n",
       "    </tr>\n",
       "    <tr>\n",
       "      <th>1</th>\n",
       "      <td>143.09</td>\n",
       "      <td>32.0</td>\n",
       "      <td>Beleza</td>\n",
       "      <td>Pix</td>\n",
       "      <td>40.0</td>\n",
       "      <td>4.94</td>\n",
       "    </tr>\n",
       "    <tr>\n",
       "      <th>2</th>\n",
       "      <td>182.38</td>\n",
       "      <td>3.0</td>\n",
       "      <td>Eletrônico</td>\n",
       "      <td>Pix</td>\n",
       "      <td>41.0</td>\n",
       "      <td>9.91</td>\n",
       "    </tr>\n",
       "    <tr>\n",
       "      <th>3</th>\n",
       "      <td>226.15</td>\n",
       "      <td>27.0</td>\n",
       "      <td>Beleza</td>\n",
       "      <td>Cartão Débito</td>\n",
       "      <td>62.0</td>\n",
       "      <td>22.70</td>\n",
       "    </tr>\n",
       "    <tr>\n",
       "      <th>4</th>\n",
       "      <td>138.29</td>\n",
       "      <td>29.0</td>\n",
       "      <td>Beleza</td>\n",
       "      <td>Cartão Credito</td>\n",
       "      <td>36.0</td>\n",
       "      <td>15.58</td>\n",
       "    </tr>\n",
       "  </tbody>\n",
       "</table>\n",
       "</div>"
      ],
      "text/plain": [
       "     col1  col2        catA            catB  num1   num2\n",
       "0  174.84   3.0      Beleza             Pix  34.0   7.76\n",
       "1  143.09  32.0      Beleza             Pix  40.0   4.94\n",
       "2  182.38   3.0  Eletrônico             Pix  41.0   9.91\n",
       "3  226.15  27.0      Beleza   Cartão Débito  62.0  22.70\n",
       "4  138.29  29.0      Beleza  Cartão Credito  36.0  15.58"
      ]
     },
     "execution_count": 1,
     "metadata": {},
     "output_type": "execute_result"
    }
   ],
   "source": [
    "import pandas as pd\n",
    "\n",
    "df = pd.read_csv('dataset_vendas_online.csv')\n",
    "df.head()"
   ]
  },
  {
   "cell_type": "markdown",
   "metadata": {},
   "source": [
    "<p>Exercício 2 - Os nomes das colunas são muito esquisitos. Após consultarmos o analista responsável pela planilha, ele nos explicou que:</p>\n",
    "<ul>\n",
    "<li>col1 é o preço do produto</li>\n",
    "<li>col2 é a quantidade vendida</li>\n",
    "<li>catA é a categoria do produto</li>\n",
    "<li>catB é o meio de pagamento</li>\n",
    "<li>num1 é a idade do cliente</li>\n",
    "<li>num2 é o valor do desconto aplicado</li>\n",
    "</ul>\n",
    "\n",
    "<p>Corrija os nomes das colunas</p>"
   ]
  },
  {
   "cell_type": "code",
   "execution_count": 2,
   "metadata": {},
   "outputs": [
    {
     "data": {
      "text/html": [
       "<div>\n",
       "<style scoped>\n",
       "    .dataframe tbody tr th:only-of-type {\n",
       "        vertical-align: middle;\n",
       "    }\n",
       "\n",
       "    .dataframe tbody tr th {\n",
       "        vertical-align: top;\n",
       "    }\n",
       "\n",
       "    .dataframe thead th {\n",
       "        text-align: right;\n",
       "    }\n",
       "</style>\n",
       "<table border=\"1\" class=\"dataframe\">\n",
       "  <thead>\n",
       "    <tr style=\"text-align: right;\">\n",
       "      <th></th>\n",
       "      <th>Preço</th>\n",
       "      <th>Quantidade vendida</th>\n",
       "      <th>Categoria</th>\n",
       "      <th>Meio de pagamento</th>\n",
       "      <th>Idade do cliente</th>\n",
       "      <th>Desconto</th>\n",
       "    </tr>\n",
       "  </thead>\n",
       "  <tbody>\n",
       "    <tr>\n",
       "      <th>0</th>\n",
       "      <td>174.84</td>\n",
       "      <td>3.0</td>\n",
       "      <td>Beleza</td>\n",
       "      <td>Pix</td>\n",
       "      <td>34.0</td>\n",
       "      <td>7.76</td>\n",
       "    </tr>\n",
       "    <tr>\n",
       "      <th>1</th>\n",
       "      <td>143.09</td>\n",
       "      <td>32.0</td>\n",
       "      <td>Beleza</td>\n",
       "      <td>Pix</td>\n",
       "      <td>40.0</td>\n",
       "      <td>4.94</td>\n",
       "    </tr>\n",
       "    <tr>\n",
       "      <th>2</th>\n",
       "      <td>182.38</td>\n",
       "      <td>3.0</td>\n",
       "      <td>Eletrônico</td>\n",
       "      <td>Pix</td>\n",
       "      <td>41.0</td>\n",
       "      <td>9.91</td>\n",
       "    </tr>\n",
       "    <tr>\n",
       "      <th>3</th>\n",
       "      <td>226.15</td>\n",
       "      <td>27.0</td>\n",
       "      <td>Beleza</td>\n",
       "      <td>Cartão Débito</td>\n",
       "      <td>62.0</td>\n",
       "      <td>22.70</td>\n",
       "    </tr>\n",
       "    <tr>\n",
       "      <th>4</th>\n",
       "      <td>138.29</td>\n",
       "      <td>29.0</td>\n",
       "      <td>Beleza</td>\n",
       "      <td>Cartão Credito</td>\n",
       "      <td>36.0</td>\n",
       "      <td>15.58</td>\n",
       "    </tr>\n",
       "  </tbody>\n",
       "</table>\n",
       "</div>"
      ],
      "text/plain": [
       "    Preço  Quantidade vendida   Categoria Meio de pagamento  Idade do cliente  \\\n",
       "0  174.84                 3.0      Beleza               Pix              34.0   \n",
       "1  143.09                32.0      Beleza               Pix              40.0   \n",
       "2  182.38                 3.0  Eletrônico               Pix              41.0   \n",
       "3  226.15                27.0      Beleza     Cartão Débito              62.0   \n",
       "4  138.29                29.0      Beleza    Cartão Credito              36.0   \n",
       "\n",
       "   Desconto  \n",
       "0      7.76  \n",
       "1      4.94  \n",
       "2      9.91  \n",
       "3     22.70  \n",
       "4     15.58  "
      ]
     },
     "execution_count": 2,
     "metadata": {},
     "output_type": "execute_result"
    }
   ],
   "source": [
    "df = df.rename(columns={'col1': 'Preço', 'col2': 'Quantidade vendida', 'catA': 'Categoria', 'catB': 'Meio de pagamento', 'num1': 'Idade do cliente', 'num2': 'Desconto'})\n",
    "df.head()"
   ]
  },
  {
   "cell_type": "markdown",
   "metadata": {},
   "source": [
    "<p style=\"color:blue; background-color:gray\">Vamos observar mais a fundo nossa planilha:</p>"
   ]
  },
  {
   "cell_type": "code",
   "execution_count": 3,
   "metadata": {},
   "outputs": [
    {
     "name": "stdout",
     "output_type": "stream",
     "text": [
      "<class 'pandas.core.frame.DataFrame'>\n",
      "RangeIndex: 450 entries, 0 to 449\n",
      "Data columns (total 6 columns):\n",
      " #   Column              Non-Null Count  Dtype  \n",
      "---  ------              --------------  -----  \n",
      " 0   Preço               360 non-null    float64\n",
      " 1   Quantidade vendida  382 non-null    float64\n",
      " 2   Categoria           450 non-null    object \n",
      " 3   Meio de pagamento   450 non-null    object \n",
      " 4   Idade do cliente    405 non-null    float64\n",
      " 5   Desconto            450 non-null    float64\n",
      "dtypes: float64(4), object(2)\n",
      "memory usage: 21.2+ KB\n"
     ]
    }
   ],
   "source": [
    "df.info() #Execute esse código"
   ]
  },
  {
   "cell_type": "markdown",
   "metadata": {},
   "source": [
    "<p>Exercício 3 - Precisamos tratar os dados faltantes.</p>\n",
    "<p>No caso do preço do produto, vamos atribuir a mediana</p>\n",
    "<p>Na quantidade vendida, a média</p>\n",
    "<p>Na idade do cliente, a moda</p>\n"
   ]
  },
  {
   "cell_type": "code",
   "execution_count": 4,
   "metadata": {},
   "outputs": [
    {
     "name": "stdout",
     "output_type": "stream",
     "text": [
      "<class 'pandas.core.frame.DataFrame'>\n",
      "RangeIndex: 450 entries, 0 to 449\n",
      "Data columns (total 6 columns):\n",
      " #   Column              Non-Null Count  Dtype  \n",
      "---  ------              --------------  -----  \n",
      " 0   Preço               450 non-null    float64\n",
      " 1   Quantidade vendida  382 non-null    float64\n",
      " 2   Categoria           450 non-null    object \n",
      " 3   Meio de pagamento   450 non-null    object \n",
      " 4   Idade do cliente    450 non-null    float64\n",
      " 5   Desconto            450 non-null    float64\n",
      "dtypes: float64(4), object(2)\n",
      "memory usage: 21.2+ KB\n"
     ]
    }
   ],
   "source": [
    "idade_moda = df['Idade do cliente'].mode()\n",
    "df['Idade do cliente'] = df['Idade do cliente'].fillna(idade_moda[0])\n",
    "\n",
    "\n",
    "preço_mediana = df['Preço'].median()\n",
    "df['Preço'] = df['Preço'].fillna(preço_mediana)\n",
    "\n",
    "df.info()\n"
   ]
  },
  {
   "cell_type": "code",
   "execution_count": 10,
   "metadata": {},
   "outputs": [],
   "source": [
    "quantidade_media = df['Quantidade vendida'].mean()\n",
    "df['Quantidade vendida'] = df['Quantidade vendida'].fillna(quantidade_media)\n"
   ]
  },
  {
   "cell_type": "markdown",
   "metadata": {},
   "source": [
    "<p>Exercício 4 - Vamos analisar nossos dados categóricos, a saber: Categoria e Meio de Pagamento. Crie gráficos de barras para essas colunas para observar se está tudo ok.</p>"
   ]
  },
  {
   "cell_type": "code",
   "execution_count": 12,
   "metadata": {},
   "outputs": [
    {
     "name": "stdout",
     "output_type": "stream",
     "text": [
      "Meio de pagamento\n",
      "Boleto            113\n",
      "Cartão Credito     18\n",
      "Cartão Crédito     67\n",
      "Cartão Débito      81\n",
      "Inválido           31\n",
      "Pix               140\n",
      "dtype: int64\n"
     ]
    },
    {
     "data": {
      "text/plain": [
       "<Axes: xlabel='Meio de pagamento'>"
      ]
     },
     "execution_count": 12,
     "metadata": {},
     "output_type": "execute_result"
    },
    {
     "data": {
      "image/png": "[encoded data removed]",
      "text/plain": [
       "<Figure size 640x480 with 1 Axes>"
      ]
     },
     "metadata": {},
     "output_type": "display_data"
    }
   ],
   "source": [
    "\n",
    "grupo_Meio_pagamento = df.groupby(['Meio de pagamento']).size()\n",
    "print(grupo_Meio_pagamento) #Visão de relatório\n",
    "grupo_Meio_pagamento.plot.bar() #Visão de gráfico\n",
    "\n"
   ]
  },
  {
   "cell_type": "code",
   "execution_count": 13,
   "metadata": {},
   "outputs": [
    {
     "name": "stdout",
     "output_type": "stream",
     "text": [
      "Categoria\n",
      "Beleza           116\n",
      "Casa e Jardim     92\n",
      "Eletrônico        64\n",
      "Eletrôniko        14\n",
      "Moda             136\n",
      "Teste             28\n",
      "dtype: int64\n"
     ]
    },
    {
     "data": {
      "text/plain": [
       "<Axes: xlabel='Categoria'>"
      ]
     },
     "execution_count": 13,
     "metadata": {},
     "output_type": "execute_result"
    },
    {
     "data": {
      "image/png": "[encoded data removed]",
      "text/plain": [
       "<Figure size 640x480 with 1 Axes>"
      ]
     },
     "metadata": {},
     "output_type": "display_data"
    }
   ],
   "source": [
    "grupo_Categoria = df.groupby(['Categoria']).size()\n",
    "print(grupo_Categoria) #Visão de relatório\n",
    "grupo_Categoria.plot.bar() #Visão de gráfico\n"
   ]
  },
  {
   "cell_type": "markdown",
   "metadata": {},
   "source": [
    "<p>Exercício 5 - Remova os valores equivocados e unifique valores que foram digitados incorretamente</p>"
   ]
  },
  {
   "cell_type": "code",
   "execution_count": 23,
   "metadata": {},
   "outputs": [
    {
     "data": {
      "text/plain": [
       "0             Beleza\n",
       "1             Beleza\n",
       "2         Eletrônico\n",
       "3             Beleza\n",
       "4             Beleza\n",
       "           ...      \n",
       "445             Moda\n",
       "446    Casa e Jardim\n",
       "447    Casa e Jardim\n",
       "448             Moda\n",
       "449    Casa e Jardim\n",
       "Name: Categoria, Length: 392, dtype: object"
      ]
     },
     "metadata": {},
     "output_type": "display_data"
    },
    {
     "data": {
      "text/plain": [
       "0                 Pix\n",
       "1                 Pix\n",
       "2                 Pix\n",
       "3       Cartão Débito\n",
       "4      Cartão Crédito\n",
       "            ...      \n",
       "445     Cartão Débito\n",
       "446               Pix\n",
       "447               Pix\n",
       "448               Pix\n",
       "449               Pix\n",
       "Name: Meio de pagamento, Length: 392, dtype: object"
      ]
     },
     "metadata": {},
     "output_type": "display_data"
    }
   ],
   "source": [
    "df['Meio de pagamento'] = df['Meio de pagamento'].replace({\n",
    "    'Cartão Credito': 'Cartão Crédito'\n",
    "})\n",
    "df['Categoria'] = df['Categoria'].replace({\n",
    "    'Eletrôniko': 'Eletrônico'\n",
    "})\n",
    "df = df[df['Meio de pagamento'] != 'Inválido']\n",
    "\n",
    "df = df[df['Categoria'] != 'Teste']\n",
    "\n",
    "display(df['Categoria'])\n",
    "display(df['Meio de pagamento'])"
   ]
  },
  {
   "cell_type": "markdown",
   "metadata": {},
   "source": [
    "<p>Exercício 6 - Vamos descrever (describe) os dados numéricos</p>"
   ]
  },
  {
   "cell_type": "code",
   "execution_count": 26,
   "metadata": {},
   "outputs": [
    {
     "data": {
      "text/plain": [
       "count   392.00\n",
       "mean     15.55\n",
       "std      10.02\n",
       "min       0.05\n",
       "25%       8.44\n",
       "50%      15.32\n",
       "75%      22.74\n",
       "max     120.00\n",
       "Name: Desconto, dtype: float64"
      ]
     },
     "execution_count": 26,
     "metadata": {},
     "output_type": "execute_result"
    }
   ],
   "source": [
    "import seaborn as sns\n",
    "pd.set_option('display.float_format', '{:.2f}'.format)  # Desativando a notação científica\n",
    "\n",
    "df['Preço'].describe(),\n",
    "df['Idade do cliente'].describe(),\n",
    "df['Quantidade vendida'].describe(),\n",
    "df['Desconto'].describe()"
   ]
  },
  {
   "cell_type": "markdown",
   "metadata": {},
   "source": [
    "<p>Exercício 7 - Agora analise esses dados gerando boxplots e histogramas para os que parecem ter problemas e depois corrija os problemas identificados</p>"
   ]
  },
  {
   "cell_type": "code",
   "execution_count": 40,
   "metadata": {},
   "outputs": [
    {
     "name": "stderr",
     "output_type": "stream",
     "text": [
      "C:\\ProgramData\\anaconda3\\Lib\\site-packages\\seaborn\\_oldcore.py:1119: FutureWarning: use_inf_as_na option is deprecated and will be removed in a future version. Convert inf values to NaN before operating instead.\n",
      "  with pd.option_context('mode.use_inf_as_na', True):\n"
     ]
    },
    {
     "data": {
      "text/plain": [
       "<Axes: xlabel='Idade do cliente', ylabel='Count'>"
      ]
     },
     "execution_count": 40,
     "metadata": {},
     "output_type": "execute_result"
    },
    {
     "data": {
      "image/png": "[encoded data removed]",
      "text/plain": [
       "<Figure size 640x480 with 1 Axes>"
      ]
     },
     "metadata": {},
     "output_type": "display_data"
    }
   ],
   "source": [
    "#Gere boxplots e histogramas\n",
    "sns.boxplot(df['Preço'])\n",
    "sns.histplot(df['Idade do cliente'])\n",
    "sns.boxplot(df['Quantidade vendida'])\n"
   ]
  },
  {
   "cell_type": "code",
   "execution_count": 39,
   "metadata": {},
   "outputs": [
    {
     "data": {
      "text/plain": [
       "<Axes: >"
      ]
     },
     "execution_count": 39,
     "metadata": {},
     "output_type": "execute_result"
    },
    {
     "data": {
      "image/png": "[encoded data removed]",
      "text/plain": [
       "<Figure size 640x480 with 1 Axes>"
      ]
     },
     "metadata": {},
     "output_type": "display_data"
    }
   ],
   "source": [
    "#Corrija os problemas identificados e comprove que foram corrigidos\n",
    "df = df[(df['Preço'] < 9999)]\n",
    "\n",
    "sns.boxplot(df['Preço'])"
   ]
  },
  {
   "cell_type": "code",
   "execution_count": 37,
   "metadata": {},
   "outputs": [
    {
     "name": "stderr",
     "output_type": "stream",
     "text": [
      "C:\\ProgramData\\anaconda3\\Lib\\site-packages\\seaborn\\_oldcore.py:1119: FutureWarning: use_inf_as_na option is deprecated and will be removed in a future version. Convert inf values to NaN before operating instead.\n",
      "  with pd.option_context('mode.use_inf_as_na', True):\n"
     ]
    },
    {
     "data": {
      "text/plain": [
       "<Axes: xlabel='Idade do cliente', ylabel='Count'>"
      ]
     },
     "execution_count": 37,
     "metadata": {},
     "output_type": "execute_result"
    },
    {
     "data": {
      "image/png": "[encoded data removed]",
      "text/plain": [
       "<Figure size 640x480 with 1 Axes>"
      ]
     },
     "metadata": {},
     "output_type": "display_data"
    }
   ],
   "source": [
    "df = df[(df['Idade do cliente'] < 99)]\n",
    "df = df[(df['Idade do cliente'] > 0)]\n",
    "\n",
    "\n",
    "sns.histplot(df['Idade do cliente'])"
   ]
  },
  {
   "cell_type": "markdown",
   "metadata": {},
   "source": [
    "<p>Exercício 8 - Verifique se há alguma correlação entre as variáveis numéricas por meio de correlação e diagrama de dispersão</p>"
   ]
  },
  {
   "cell_type": "code",
   "execution_count": 41,
   "metadata": {},
   "outputs": [
    {
     "data": {
      "text/plain": [
       "<Axes: xlabel='Preço', ylabel='Quantidade vendida'>"
      ]
     },
     "execution_count": 41,
     "metadata": {},
     "output_type": "execute_result"
    },
    {
     "data": {
      "image/png": "[encoded data removed]",
      "text/plain": [
       "<Figure size 640x480 with 1 Axes>"
      ]
     },
     "metadata": {},
     "output_type": "display_data"
    }
   ],
   "source": [
    "sns.scatterplot(data=df, x=df['Preço'], y=df['Quantidade vendida'])"
   ]
  },
  {
   "cell_type": "code",
   "execution_count": 42,
   "metadata": {},
   "outputs": [
    {
     "data": {
      "text/html": [
       "<div>\n",
       "<style scoped>\n",
       "    .dataframe tbody tr th:only-of-type {\n",
       "        vertical-align: middle;\n",
       "    }\n",
       "\n",
       "    .dataframe tbody tr th {\n",
       "        vertical-align: top;\n",
       "    }\n",
       "\n",
       "    .dataframe thead th {\n",
       "        text-align: right;\n",
       "    }\n",
       "</style>\n",
       "<table border=\"1\" class=\"dataframe\">\n",
       "  <thead>\n",
       "    <tr style=\"text-align: right;\">\n",
       "      <th></th>\n",
       "      <th>Idade do cliente</th>\n",
       "      <th>Quantidade vendida</th>\n",
       "    </tr>\n",
       "  </thead>\n",
       "  <tbody>\n",
       "    <tr>\n",
       "      <th>Idade do cliente</th>\n",
       "      <td>1.00</td>\n",
       "      <td>-0.01</td>\n",
       "    </tr>\n",
       "    <tr>\n",
       "      <th>Quantidade vendida</th>\n",
       "      <td>-0.01</td>\n",
       "      <td>1.00</td>\n",
       "    </tr>\n",
       "  </tbody>\n",
       "</table>\n",
       "</div>"
      ],
      "text/plain": [
       "                    Idade do cliente  Quantidade vendida\n",
       "Idade do cliente                1.00               -0.01\n",
       "Quantidade vendida             -0.01                1.00"
      ]
     },
     "metadata": {},
     "output_type": "display_data"
    }
   ],
   "source": [
    "df_correlacao = df[['Idade do cliente', 'Quantidade vendida']]\n",
    "correlacao = df_correlacao.corr()\n",
    "display(correlacao)"
   ]
  },
  {
   "cell_type": "code",
   "execution_count": null,
   "metadata": {},
   "outputs": [],
   "source": []
  }
 ],
 "metadata": {
  "kernelspec": {
   "display_name": "Python 3 (ipykernel)",
   "language": "python",
   "name": "python3"
  },
  "language_info": {
   "codemirror_mode": {
    "name": "ipython",
    "version": 3
   },
   "file_extension": ".py",
   "mimetype": "text/x-python",
   "name": "python",
   "nbconvert_exporter": "python",
   "pygments_lexer": "ipython3",
   "version": "3.11.7"
  }
 },
 "nbformat": 4,
 "nbformat_minor": 4
}
